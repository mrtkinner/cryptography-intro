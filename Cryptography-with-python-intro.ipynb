{
 "cells": [
  {
   "cell_type": "markdown",
   "metadata": {
    "id": "Q3LR8sAM33_S"
   },
   "source": [
    "# Cryptography with Python (Day 1)\n",
    "\n",
    "---\n",
    "\n",
    "Cryptography is a method of protecting information and communications through the use of codes, so that only those for whom the information is intended can read and process it. \n",
    "\n"
   ]
  },
  {
   "cell_type": "markdown",
   "metadata": {},
   "source": [
    "Before we begin, let us stop to think about how computers and language interact. \n",
    "\n",
    "By now, you likely can imagine that computers do not interpret the letter \"a\" simply as \"a\". If you send your friend an email containing the word \"apple\", the computer you use and your friend uses display the word \"apple\", but the computers themselves do not directly send and receive each of the letters. \n",
    "\n",
    "Recall that at the level of the computer's processor we must operate with bits: 0s and 1s. This means that words such as apple can take many other forms on their way through software, communication protocols to other computers, and then through that computers operating system and software -- to finally reach your friend's screen. \n",
    "\n",
    "In this module we will explore communicating information using four systems: \n",
    "\n",
    "- Unicode: A standard system for character encoding, commonly used on websites and in messaging applications. Includes all the major global languages, including non-phonetic writing systems and symbols. \n",
    "- ASCII: Another system for character encoding, used in computer systems and even in older telecommunications devices. Development centered mostly on the English language.\n",
    "- Hexademical: A numbering system that uses a base of 16; hexademical is encoded using characters from the ASCII system\n",
    "- Binary: The lowest level which translates to bits of information that is processed by the computer"
   ]
  },
  {
   "cell_type": "markdown",
   "metadata": {
    "id": "5kAFW2EihYZU"
   },
   "source": [
    "### Shift Ciphers\n",
    "\n",
    "Shift ciphers are perhaps the simplest the simplest methods to encode plaintext by simply \"shifting\" each character in the text by a fixed number of places down the alphabet. The magnitude of this shift is determined by a key that is kept private.\n",
    "\n",
    "The definitive and simplest shift cipher, the Caeser cipher, is said to have been used by Julius Caesar himself (*of course, he would have had to compute the cipher text by hand)*. See if you can unpack the nature of the Caesar cipher using Code Block A. "
   ]
  },
  {
   "cell_type": "markdown",
   "metadata": {
    "id": "JcCjgktTm49-"
   },
   "source": [
    "##### Caesar Cipher - Encryption (Code Block A)"
   ]
  },
  {
   "cell_type": "code",
   "execution_count": null,
   "metadata": {
    "colab": {
     "base_uri": "https://localhost:8080/"
    },
    "id": "dTIIW7uYh5Cg",
    "outputId": "1445739f-59d0-4f0a-c158-235d5384cd73"
   },
   "outputs": [],
   "source": [
    "msg = input(\"Type your message here: \")\n",
    "shift = int(input(\"Enter your shift key here: \"))\n",
    "output = \"\"\n",
    "for l in msg:\n",
    "  c = ord(l) + shift\n",
    "  output += (chr(c))\n",
    "print(output)"
   ]
  },
  {
   "cell_type": "markdown",
   "metadata": {},
   "source": [
    "**Check for understanding:**\n",
    "1. What operations do we carry out on the plain text message when using the Caesar cipher?\n",
    "2. What is the nature of the _shift_ variable in the code above? \n",
    "3. Could I use \"B\" as the value for _shift_? Why or why not?"
   ]
  },
  {
   "cell_type": "markdown",
   "metadata": {},
   "source": [
    "### Understanding more about Python\n",
    "\n",
    "What do you notice about the cells above? \n",
    "\n",
    "Without referring to anything outside of this notebook, can you deduce what the following Python functions do?\n",
    "\n",
    "- **ord** (Line 5)\n",
    "- **chr** (Line 6)\n",
    "\n",
    "Test your thinking by tinkering with the code in the block below. "
   ]
  },
  {
   "cell_type": "markdown",
   "metadata": {},
   "source": [
    "##### Testing Python Functions (Code Block B)"
   ]
  },
  {
   "cell_type": "code",
   "execution_count": null,
   "metadata": {
    "scrolled": true
   },
   "outputs": [],
   "source": [
    "TestInput = input(\"Input your test text here: \")\n",
    "output1 = \"\"\n",
    "output2 = \"\"\n",
    "\n",
    "for l in TestInput:\n",
    "    c = ord(l)\n",
    "    output1 += str(c) # the str function allows us to sequence the numbers (eg: 1, 4, and 9 become 149)\n",
    "    output2 += (chr(c))\n",
    "    \n",
    "print(\"The output without the chr command is: \", output1)\n",
    "print(\"The output with the chr command is: \", output2)"
   ]
  },
  {
   "cell_type": "markdown",
   "metadata": {},
   "source": [
    "Now that we have confirmed our understanding of two key Python functions that we will use, let us explore more about simple ciphers. Shift ciphers, such as the Caesar cipher, are very simple -- and in reality, too simple for any serious use in information security. Using the starter code block below, see if you can reverse engineer the encryption scheme to decrypt a cipher text message."
   ]
  },
  {
   "cell_type": "markdown",
   "metadata": {
    "id": "K4OK0Qo6vwrP"
   },
   "source": [
    "##### Try it yourself: Shift Cipher Decryption (Code Block C)"
   ]
  },
  {
   "cell_type": "code",
   "execution_count": null,
   "metadata": {},
   "outputs": [],
   "source": [
    "msg = input(\"Type your cipher text here: \")\n",
    "shift = int(input(\"Enter your shift key here: \"))\n",
    "output = \"\"\n",
    "for l in msg:\n",
    "    ##this is where you should enter your own python code\n",
    "\n",
    "print(\"Your plain text message is: \", output)"
   ]
  }
 ],
 "metadata": {
  "colab": {
   "provenance": []
  },
  "kernelspec": {
   "display_name": "Python 3 (ipykernel)",
   "language": "python",
   "name": "python3"
  },
  "language_info": {
   "codemirror_mode": {
    "name": "ipython",
    "version": 3
   },
   "file_extension": ".py",
   "mimetype": "text/x-python",
   "name": "python",
   "nbconvert_exporter": "python",
   "pygments_lexer": "ipython3",
   "version": "3.11.0"
  }
 },
 "nbformat": 4,
 "nbformat_minor": 4
}
